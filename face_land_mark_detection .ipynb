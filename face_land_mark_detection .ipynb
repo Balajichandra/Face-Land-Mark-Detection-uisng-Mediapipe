{
 "cells": [
  {
   "cell_type": "code",
   "execution_count": 1,
   "id": "a2247950",
   "metadata": {},
   "outputs": [
    {
     "ename": "ModuleNotFoundError",
     "evalue": "No module named 'mediapipe'",
     "output_type": "error",
     "traceback": [
      "\u001b[1;31m---------------------------------------------------------------------------\u001b[0m",
      "\u001b[1;31mModuleNotFoundError\u001b[0m                       Traceback (most recent call last)",
      "\u001b[1;32m<ipython-input-1-02d7ea80336e>\u001b[0m in \u001b[0;36m<module>\u001b[1;34m\u001b[0m\n\u001b[1;32m----> 1\u001b[1;33m \u001b[1;32mimport\u001b[0m \u001b[0mmediapipe\u001b[0m \u001b[1;32mas\u001b[0m \u001b[0mmp\u001b[0m\u001b[1;33m\u001b[0m\u001b[1;33m\u001b[0m\u001b[0m\n\u001b[0m",
      "\u001b[1;31mModuleNotFoundError\u001b[0m: No module named 'mediapipe'"
     ]
    }
   ],
   "source": [
    "import mediapipe as mp"
   ]
  },
  {
   "cell_type": "code",
   "execution_count": 3,
   "id": "5b3b1d38",
   "metadata": {},
   "outputs": [
    {
     "name": "stdout",
     "output_type": "stream",
     "text": [
      "Collecting mediapipe==0.8.0\n",
      "  Downloading mediapipe-0.8.0-cp36-cp36m-win_amd64.whl (50.9 MB)\n",
      "Requirement already satisfied: dataclasses in c:\\programdata\\anaconda3\\envs\\gpu\\lib\\site-packages (from mediapipe==0.8.0) (0.8)\n",
      "Collecting opencv-python<4.0.0,>=3.4.0\n",
      "  Downloading opencv_python-3.4.15.55-cp36-cp36m-win_amd64.whl (31.1 MB)\n",
      "Requirement already satisfied: wheel in c:\\programdata\\anaconda3\\envs\\gpu\\lib\\site-packages (from mediapipe==0.8.0) (0.36.2)\n",
      "Requirement already satisfied: protobuf>=3.11.4 in c:\\programdata\\anaconda3\\envs\\gpu\\lib\\site-packages (from mediapipe==0.8.0) (3.17.3)\n",
      "Requirement already satisfied: absl-py in c:\\programdata\\anaconda3\\envs\\gpu\\lib\\site-packages (from mediapipe==0.8.0) (0.13.0)\n",
      "Requirement already satisfied: numpy in c:\\programdata\\anaconda3\\envs\\gpu\\lib\\site-packages (from mediapipe==0.8.0) (1.19.5)\n",
      "Requirement already satisfied: six in c:\\programdata\\anaconda3\\envs\\gpu\\lib\\site-packages (from mediapipe==0.8.0) (1.15.0)\n",
      "Installing collected packages: opencv-python, mediapipe\n",
      "Successfully installed mediapipe-0.8.0 opencv-python-3.4.15.55\n"
     ]
    }
   ],
   "source": [
    "!pip install mediapipe==0.8.0"
   ]
  },
  {
   "cell_type": "code",
   "execution_count": 4,
   "id": "795a9f2c",
   "metadata": {},
   "outputs": [],
   "source": [
    "import mediapipe as mp\n",
    "import numpy as np\n",
    "import cv2"
   ]
  },
  {
   "cell_type": "code",
   "execution_count": 7,
   "id": "824c3a83",
   "metadata": {},
   "outputs": [],
   "source": [
    "cap = cv2.VideoCapture(0)\n",
    "facemesh = mp.solutions.face_mesh\n",
    "face = facemesh.FaceMesh(static_image_mode=True)\n",
    "draw = mp.solutions.drawing_utils\n",
    "while True:\n",
    "    _,frm = cap.read()\n",
    "    rgb = cv2.cvtColor(frm,cv2.COLOR_BGR2RGB)\n",
    "    op = face.process(rgb)\n",
    "    if op.multi_face_landmarks:\n",
    "        for i in op.multi_face_landmarks:\n",
    "            draw.draw_landmarks(frm,i,facemesh.FACE_CONNECTIONS,landmark_drawing_spec=draw.DrawingSpec(color=(0,255,0),circle_radius=1))\n",
    "    cv2.imshow(\"window\",frm)\n",
    "    if cv2.waitKey(1) == 27:\n",
    "        cap.release()\n",
    "        cv2.destroyAllWindows()\n",
    "        break"
   ]
  },
  {
   "cell_type": "code",
   "execution_count": null,
   "id": "b482457b",
   "metadata": {},
   "outputs": [],
   "source": []
  }
 ],
 "metadata": {
  "kernelspec": {
   "display_name": "Python 3",
   "language": "python",
   "name": "python3"
  },
  "language_info": {
   "codemirror_mode": {
    "name": "ipython",
    "version": 3
   },
   "file_extension": ".py",
   "mimetype": "text/x-python",
   "name": "python",
   "nbconvert_exporter": "python",
   "pygments_lexer": "ipython3",
   "version": "3.6.13"
  }
 },
 "nbformat": 4,
 "nbformat_minor": 5
}
